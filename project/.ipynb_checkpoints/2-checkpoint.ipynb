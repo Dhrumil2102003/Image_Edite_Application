{
 "cells": [
  {
   "cell_type": "markdown",
   "metadata": {},
   "source": [
    "# **google colab**"
   ]
  },
  {
   "cell_type": "code",
   "execution_count": 1,
   "metadata": {},
   "outputs": [],
   "source": [
    "import tkinter as tk\n",
    "from tkinter import filedialog\n",
    "from PIL import Image, ImageTk\n",
    "\n",
    "def upload_image():\n",
    "    global img, canvas, original_image\n",
    "    file_path = filedialog.askopenfilename()\n",
    "    if file_path:\n",
    "        original_image = Image.open(file_path)\n",
    "        img = ImageTk.PhotoImage(original_image)\n",
    "        canvas.create_image(0, 0, anchor=\"nw\", image=img)\n",
    "\n",
    "def start_crop(event):\n",
    "    global start_x, start_y\n",
    "    start_x, start_y = event.x, event.y\n",
    "\n",
    "def crop_image(event):\n",
    "    global start_x, start_y, original_image\n",
    "    end_x, end_y = event.x, event.y\n",
    "    cropped_image = original_image.crop((start_x, start_y, end_x, end_y))\n",
    "    cropped_img = ImageTk.PhotoImage(cropped_image)\n",
    "\n",
    "    # Update the canvas with the cropped image\n",
    "    canvas.delete(\"all\")\n",
    "    canvas.create_image(0, 0, anchor=\"nw\", image=cropped_img)\n",
    "    canvas.image = cropped_img  # Keep reference to avoid garbage collection\n",
    "\n",
    "root = tk.Tk()\n",
    "root.title(\"Image Cropper\")\n",
    "\n",
    "upload_button = tk.Button(root, text=\"Upload Image\", command=upload_image)\n",
    "upload_button.pack()\n",
    "\n",
    "canvas = tk.Canvas(root)\n",
    "canvas.pack()\n",
    "\n",
    "canvas.bind(\"<ButtonPress-1>\", start_crop)\n",
    "canvas.bind(\"<B1-Motion>\", crop_image)\n",
    "\n",
    "root.mainloop()"
   ]
  },
  {
   "cell_type": "markdown",
   "metadata": {},
   "source": [
    "# **My code**"
   ]
  },
  {
   "cell_type": "markdown",
   "metadata": {},
   "source": [
    "### Image Dimensions (in pixels)\n",
    "\n",
    "* image is considered to be height and width in pixels\n",
    "* the coordinates system here starts in the upper left corner\n",
    "* the starting point of the image is x and y axis is the upper left corner\n",
    "\n",
    "\n",
    "### Crop the Image in python \n",
    "1. Load the image\n",
    "2. Get dimensions of the image\n",
    "3. Determine what you want to cropped\n",
    "4. Create a new Image based on the dimensions\n",
    "5. Write new image"
   ]
  },
  {
   "cell_type": "code",
   "execution_count": 2,
   "metadata": {},
   "outputs": [
    {
     "ename": "AttributeError",
     "evalue": "'NoneType' object has no attribute 'shape'",
     "output_type": "error",
     "traceback": [
      "\u001b[1;31m---------------------------------------------------------------------------\u001b[0m",
      "\u001b[1;31mAttributeError\u001b[0m                            Traceback (most recent call last)",
      "Cell \u001b[1;32mIn[2], line 11\u001b[0m\n\u001b[0;32m      7\u001b[0m     \u001b[38;5;28mprint\u001b[39m(\u001b[38;5;124m\"\u001b[39m\u001b[38;5;124mhalt\u001b[39m\u001b[38;5;124m\"\u001b[39m)\n\u001b[0;32m     10\u001b[0m \u001b[38;5;28;01mif\u001b[39;00m \u001b[38;5;18m__name__\u001b[39m \u001b[38;5;241m==\u001b[39m \u001b[38;5;124m\"\u001b[39m\u001b[38;5;124m__main__\u001b[39m\u001b[38;5;124m\"\u001b[39m: \u001b[38;5;66;03m# It is also possible to use this syntax in python code that we want to run only when the script is executed, not when it is imported into another script or program or when it is run as a stand-alone program.\u001b[39;00m\n\u001b[1;32m---> 11\u001b[0m     main()\n",
      "Cell \u001b[1;32mIn[2], line 4\u001b[0m, in \u001b[0;36mmain\u001b[1;34m()\u001b[0m\n\u001b[0;32m      2\u001b[0m \u001b[38;5;28;01mdef\u001b[39;00m \u001b[38;5;21mmain\u001b[39m():\n\u001b[0;32m      3\u001b[0m     img \u001b[38;5;241m=\u001b[39m cv2\u001b[38;5;241m.\u001b[39mimread(\u001b[38;5;124m\"\u001b[39m\u001b[38;5;124mC:\u001b[39m\u001b[38;5;130;01m\\\\\u001b[39;00m\u001b[38;5;124mUsers\u001b[39m\u001b[38;5;130;01m\\\\\u001b[39;00m\u001b[38;5;124mADMIN\u001b[39m\u001b[38;5;130;01m\\\\\u001b[39;00m\u001b[38;5;124mMusic\u001b[39m\u001b[38;5;130;01m\\\\\u001b[39;00m\u001b[38;5;124mproject\u001b[39m\u001b[38;5;130;01m\\\\\u001b[39;00m\u001b[38;5;124mimage\u001b[39m\u001b[38;5;130;01m\\\\\u001b[39;00m\u001b[38;5;124mimg\u001b[39m\u001b[38;5;130;01m\\\\\u001b[39;00m\u001b[38;5;124m1.jpg\u001b[39m\u001b[38;5;124m\"\u001b[39m)\n\u001b[1;32m----> 4\u001b[0m     dimensions \u001b[38;5;241m=\u001b[39m img\u001b[38;5;241m.\u001b[39mshape\n\u001b[0;32m      5\u001b[0m     hight \u001b[38;5;241m=\u001b[39m dimensions[\u001b[38;5;241m0\u001b[39m]\n\u001b[0;32m      6\u001b[0m     width \u001b[38;5;241m=\u001b[39m dimensions[\u001b[38;5;241m1\u001b[39m]\n",
      "\u001b[1;31mAttributeError\u001b[0m: 'NoneType' object has no attribute 'shape'"
     ]
    }
   ],
   "source": [
    "import cv2\n",
    "def main():\n",
    "    img = cv2.imread(\"C:\\\\Users\\\\ADMIN\\\\Music\\\\project\\\\image\\\\img\\\\1.jpg\")\n",
    "    dimensions = img.shape\n",
    "    hight = dimensions[0]\n",
    "    width = dimensions[1]\n",
    "    print(\"halt\")\n",
    "\n",
    "\n",
    "if __name__ == \"__main__\": # It is also possible to use this syntax in python code that we want to run only when the script is executed, not when it is imported into another script or program or when it is run as a stand-alone program.\n",
    "    main()"
   ]
  },
  {
   "cell_type": "code",
   "execution_count": null,
   "metadata": {},
   "outputs": [],
   "source": [
    "import cv2\n",
    "def main():\n",
    "    img = cv2.imread(\"\"C:/Users/ADMIN/Music/project\\\\image\\\\img\\\\1.jpge\"\")\n",
    "    dimensions = img.shape\n",
    "    height = dimensions[0]\n",
    "    width = dimensions[1]\n",
    "    cropped_image = img[200:(height-200),200:(width-400)]\n",
    "    cv2.imshow(\"cropped\",cropped_image)\n",
    "\n",
    "if __name__ == \"__main__\": # It is also possible to use this syntax in python code that we want to run only when the script is executed, not when it is imported into another script or program or when it is run as a stand-alone program.\n",
    "    main()"
   ]
  }
 ],
 "metadata": {
  "kernelspec": {
   "display_name": "Python 3 (ipykernel)",
   "language": "python",
   "name": "python3"
  },
  "language_info": {
   "codemirror_mode": {
    "name": "ipython",
    "version": 3
   },
   "file_extension": ".py",
   "mimetype": "text/x-python",
   "name": "python",
   "nbconvert_exporter": "python",
   "pygments_lexer": "ipython3",
   "version": "3.11.3"
  }
 },
 "nbformat": 4,
 "nbformat_minor": 2
}
